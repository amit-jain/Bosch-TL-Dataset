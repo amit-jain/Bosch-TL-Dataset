{
 "cells": [
  {
   "cell_type": "code",
   "execution_count": 1,
   "metadata": {
    "collapsed": true
   },
   "outputs": [],
   "source": [
    "%matplotlib inline\n",
    "from matplotlib import pyplot as plt"
   ]
  },
  {
   "cell_type": "code",
   "execution_count": 2,
   "metadata": {},
   "outputs": [
    {
     "name": "stdout",
     "output_type": "stream",
     "text": [
      "3.1.0\n"
     ]
    }
   ],
   "source": [
    "import glob\n",
    "import sys\n",
    "import os\n",
    "import cv2\n",
    "import numpy as np\n",
    "print(cv2.__version__)"
   ]
  },
  {
   "cell_type": "markdown",
   "metadata": {},
   "source": [
    "---\n",
    "\n",
    "## Load Traffic Lights data\n",
    "\n"
   ]
  },
  {
   "cell_type": "code",
   "execution_count": 3,
   "metadata": {
    "collapsed": true
   },
   "outputs": [],
   "source": [
    "from data_utils import load_tl_extracts"
   ]
  },
  {
   "cell_type": "code",
   "execution_count": 4,
   "metadata": {
    "collapsed": true
   },
   "outputs": [],
   "source": [
    "desired_dim = (32,32)"
   ]
  },
  {
   "cell_type": "code",
   "execution_count": 5,
   "metadata": {
    "collapsed": true
   },
   "outputs": [],
   "source": [
    "data_dirs = ['data/tl-extract-train', 'data/tl-extract-test', 'data/tl-extract-additional']"
   ]
  },
  {
   "cell_type": "code",
   "execution_count": 6,
   "metadata": {
    "collapsed": true
   },
   "outputs": [],
   "source": [
    "# OpenCV uses H, W, C. and C is ordered BGR\n",
    "x, y = load_tl_extracts(data_dirs, desired_dim)"
   ]
  },
  {
   "cell_type": "code",
   "execution_count": 7,
   "metadata": {},
   "outputs": [
    {
     "data": {
      "text/plain": [
       "(24504, 32, 32, 3)"
      ]
     },
     "execution_count": 7,
     "metadata": {},
     "output_type": "execute_result"
    }
   ],
   "source": [
    "x.shape"
   ]
  },
  {
   "cell_type": "code",
   "execution_count": 8,
   "metadata": {},
   "outputs": [
    {
     "data": {
      "text/plain": [
       "(24504,)"
      ]
     },
     "execution_count": 8,
     "metadata": {},
     "output_type": "execute_result"
    }
   ],
   "source": [
    "y.shape"
   ]
  },
  {
   "cell_type": "code",
   "execution_count": 9,
   "metadata": {
    "collapsed": true
   },
   "outputs": [],
   "source": [
    "y_set = set(y)\n",
    "y_dict = {y: i for i,y in enumerate(y_set)}\n",
    "y_n = [y_dict[el] for el in y]\n",
    "n_classes = len(y_set)"
   ]
  },
  {
   "cell_type": "markdown",
   "metadata": {},
   "source": [
    "---\n",
    "\n",
    "## Filter only classes relevant for us\n",
    "\n"
   ]
  },
  {
   "cell_type": "code",
   "execution_count": 10,
   "metadata": {},
   "outputs": [
    {
     "data": {
      "text/plain": [
       "{'green': 3,\n",
       " 'greenleft': 10,\n",
       " 'greenright': 8,\n",
       " 'greenstraight': 5,\n",
       " 'greenstraightleft': 7,\n",
       " 'greenstraightright': 1,\n",
       " 'off': 4,\n",
       " 'red': 6,\n",
       " 'redleft': 2,\n",
       " 'redright': 9,\n",
       " 'redstraight': 11,\n",
       " 'redstraightleft': 12,\n",
       " 'yellow': 0}"
      ]
     },
     "execution_count": 10,
     "metadata": {},
     "output_type": "execute_result"
    },
    {
     "data": {
      "image/png": "[encoded data removed]",
      "text/plain": [
       "<matplotlib.figure.Figure at 0x7f1ddfe3f470>"
      ]
     },
     "metadata": {},
     "output_type": "display_data"
    }
   ],
   "source": [
    "#distribution of examples per class\n",
    "plt.hist(y_n, bins=n_classes);\n",
    "plt.xlabel('Class');\n",
    "plt.ylabel('Number of samples');\n",
    "y_dict"
   ]
  },
  {
   "cell_type": "code",
   "execution_count": 11,
   "metadata": {
    "collapsed": true
   },
   "outputs": [],
   "source": [
    "relevant = ['green','off','yellow','red']\n",
    "x2 = x[np.isin(y, relevant)]\n",
    "y2 = y[np.isin(y, relevant)]"
   ]
  },
  {
   "cell_type": "code",
   "execution_count": 12,
   "metadata": {},
   "outputs": [
    {
     "data": {
      "text/plain": [
       "(23164, 32, 32, 3)"
      ]
     },
     "execution_count": 12,
     "metadata": {},
     "output_type": "execute_result"
    }
   ],
   "source": [
    "x2.shape"
   ]
  },
  {
   "cell_type": "code",
   "execution_count": 13,
   "metadata": {
    "collapsed": true
   },
   "outputs": [],
   "source": [
    "y2_set = set(y2)\n",
    "y2_dict = {y: i for i,y in enumerate(y2_set)}\n",
    "y2_n = [y_dict[el] for el in y2]\n",
    "n_classes = len(y2_set)"
   ]
  },
  {
   "cell_type": "code",
   "execution_count": 14,
   "metadata": {},
   "outputs": [
    {
     "data": {
      "text/plain": [
       "{'green': 3, 'off': 1, 'red': 0, 'yellow': 2}"
      ]
     },
     "execution_count": 14,
     "metadata": {},
     "output_type": "execute_result"
    },
    {
     "data": {
      "image/png": "[encoded data removed]",
      "text/plain": [
       "<matplotlib.figure.Figure at 0x7f1ddfc640f0>"
      ]
     },
     "metadata": {},
     "output_type": "display_data"
    }
   ],
   "source": [
    "#distribution of examples per class\n",
    "plt.hist(y2_n, bins=n_classes);\n",
    "plt.xlabel('Class');\n",
    "plt.ylabel('Number of samples');\n",
    "y2_dict"
   ]
  },
  {
   "cell_type": "code",
   "execution_count": null,
   "metadata": {
    "collapsed": true
   },
   "outputs": [],
   "source": []
  },
  {
   "cell_type": "code",
   "execution_count": null,
   "metadata": {
    "collapsed": true
   },
   "outputs": [],
   "source": []
  },
  {
   "cell_type": "markdown",
   "metadata": {},
   "source": [
    "---\n",
    "\n",
    "## Visualize Data\n",
    "\n"
   ]
  },
  {
   "cell_type": "code",
   "execution_count": 15,
   "metadata": {
    "collapsed": true
   },
   "outputs": [],
   "source": [
    "def show_images(images, labels_true, rows, cols, cls=None, random=True, labels_predicted=None):\n",
    "    fig, axes = plt.subplots(rows, cols)\n",
    "    fig.subplots_adjust(hspace=0.37, wspace=0.3)\n",
    "    imidx = 0\n",
    "    for i, ax in enumerate(axes.flat):\n",
    "        while True:\n",
    "            if random:\n",
    "                example = np.random.randint(0, len(images))\n",
    "            else:\n",
    "                example = imidx\n",
    "                imidx += 1\n",
    "            if cls is None or labels_true[example]==cls:\n",
    "                break\n",
    "        if example >= len(images):\n",
    "            return\n",
    "        if len(images.shape)==4:\n",
    "            ax.imshow(images[example,:,:,:]);\n",
    "        else:\n",
    "            ax.imshow(images[example,:,:], cmap='Greys_r');\n",
    "        ax.set_xticks([])\n",
    "        ax.set_yticks([])\n",
    "        if labels_predicted is not None:\n",
    "            str = '{}: true {} pred {}'.format(example, labels_true[example], labels_predicted[example])\n",
    "        else:\n",
    "            str = '{}: true {}'.format(example, labels_true[example])\n",
    "        ax.set_xlabel(str)"
   ]
  },
  {
   "cell_type": "code",
   "execution_count": 16,
   "metadata": {},
   "outputs": [
    {
     "data": {
      "image/png": "[encoded data removed]",
      "text/plain": [
       "<matplotlib.figure.Figure at 0x7f1ddfe28c88>"
      ]
     },
     "metadata": {},
     "output_type": "display_data"
    }
   ],
   "source": [
    "# randomly show grid 5x5 examples from training data set and their true class\n",
    "rows = 5\n",
    "cols = 5\n",
    "cls = None\n",
    "show_images(x2, y2, rows, cols, cls)"
   ]
  },
  {
   "cell_type": "code",
   "execution_count": null,
   "metadata": {
    "collapsed": true
   },
   "outputs": [],
   "source": []
  },
  {
   "cell_type": "code",
   "execution_count": null,
   "metadata": {
    "collapsed": true
   },
   "outputs": [],
   "source": []
  },
  {
   "cell_type": "markdown",
   "metadata": {},
   "source": [
    "----\n",
    "\n",
    "## Preprocess and split train/test\n"
   ]
  },
  {
   "cell_type": "code",
   "execution_count": 17,
   "metadata": {
    "collapsed": true
   },
   "outputs": [],
   "source": [
    "from sklearn.model_selection import train_test_split\n",
    "from sklearn.preprocessing import LabelBinarizer"
   ]
  },
  {
   "cell_type": "code",
   "execution_count": 18,
   "metadata": {
    "collapsed": true
   },
   "outputs": [],
   "source": [
    "x = x2\n",
    "y = y2"
   ]
  },
  {
   "cell_type": "code",
   "execution_count": 19,
   "metadata": {
    "collapsed": true
   },
   "outputs": [],
   "source": [
    "# apply One-Hot Encoding for class labels. at the moment they are integers 0..42\n",
    "encoder = LabelBinarizer()\n",
    "encoder.fit(y)\n",
    "y_onehot = encoder.transform(y)\n",
    "# Change to float32, so it can be multiplied against the features in \n",
    "# TensorFlow, which are float32\n",
    "y_onehot = y_onehot.astype(np.float32)"
   ]
  },
  {
   "cell_type": "code",
   "execution_count": 20,
   "metadata": {
    "collapsed": true
   },
   "outputs": [],
   "source": [
    "pct_train = 85.\n",
    "pct_valid = 15.\n",
    "random_state = 123\n",
    "\n",
    "train_features, val_features, train_labels, val_labels = train_test_split(\n",
    "                                                            x, y_onehot, \n",
    "                                                            train_size = pct_train/100., \n",
    "                                                            test_size = pct_valid/100.,\n",
    "                                                            random_state = random_state)"
   ]
  },
  {
   "cell_type": "code",
   "execution_count": 21,
   "metadata": {},
   "outputs": [
    {
     "data": {
      "text/plain": [
       "(19689, 32, 32, 3)"
      ]
     },
     "execution_count": 21,
     "metadata": {},
     "output_type": "execute_result"
    }
   ],
   "source": [
    "train_features.shape"
   ]
  },
  {
   "cell_type": "code",
   "execution_count": 22,
   "metadata": {},
   "outputs": [
    {
     "data": {
      "text/plain": [
       "dtype('uint8')"
      ]
     },
     "execution_count": 22,
     "metadata": {},
     "output_type": "execute_result"
    }
   ],
   "source": [
    "train_features.dtype"
   ]
  },
  {
   "cell_type": "code",
   "execution_count": 23,
   "metadata": {},
   "outputs": [
    {
     "data": {
      "text/plain": [
       "(19689, 4)"
      ]
     },
     "execution_count": 23,
     "metadata": {},
     "output_type": "execute_result"
    }
   ],
   "source": [
    "train_labels.shape"
   ]
  },
  {
   "cell_type": "code",
   "execution_count": null,
   "metadata": {
    "collapsed": true
   },
   "outputs": [],
   "source": []
  },
  {
   "cell_type": "code",
   "execution_count": 24,
   "metadata": {
    "collapsed": true
   },
   "outputs": [],
   "source": [
    "def normalize_data(image_data):\n",
    "    return np.true_divide(np.subtract(image_data, np.array([128.])), np.array([256.]))"
   ]
  },
  {
   "cell_type": "code",
   "execution_count": 25,
   "metadata": {
    "collapsed": true
   },
   "outputs": [],
   "source": [
    "# normalised images in training and test sets\n",
    "#x_train_norm = normalize_data(X_train)\n"
   ]
  },
  {
   "cell_type": "code",
   "execution_count": null,
   "metadata": {
    "collapsed": true
   },
   "outputs": [],
   "source": []
  },
  {
   "cell_type": "code",
   "execution_count": null,
   "metadata": {
    "collapsed": true
   },
   "outputs": [],
   "source": []
  },
  {
   "cell_type": "code",
   "execution_count": null,
   "metadata": {
    "collapsed": true
   },
   "outputs": [],
   "source": []
  },
  {
   "cell_type": "code",
   "execution_count": null,
   "metadata": {
    "collapsed": true
   },
   "outputs": [],
   "source": []
  },
  {
   "cell_type": "code",
   "execution_count": null,
   "metadata": {
    "collapsed": true
   },
   "outputs": [],
   "source": []
  },
  {
   "cell_type": "markdown",
   "metadata": {},
   "source": [
    "----\n",
    "\n",
    "## Design and Test a Model Architecture\n"
   ]
  },
  {
   "cell_type": "code",
   "execution_count": 26,
   "metadata": {
    "collapsed": true
   },
   "outputs": [],
   "source": [
    "import tensorflow as tf\n",
    "from tqdm import tqdm\n",
    "import math\n",
    "from datetime import datetime"
   ]
  },
  {
   "cell_type": "code",
   "execution_count": 40,
   "metadata": {
    "collapsed": true
   },
   "outputs": [],
   "source": [
    "class TrafficLightsClassifier:\n",
    "    # initialization defaults as class variables\n",
    "    _trunc_normal_stddev = 0.05\n",
    "    _bias_init = 0.1\n",
    "    _L1_kernel_size = 5\n",
    "    _L1_out_channels = 64\n",
    "    _kernel1_strides = [1, 1, 1, 1]\n",
    "    _pool1_kernel = [1, 2, 2, 1]\n",
    "    _pool1_strides = [1, 2, 2, 1]\n",
    "    _L2_kernel_size = 5\n",
    "    _L2_out_channels = 32\n",
    "    _kernel2_strides = [1, 1, 1, 1]\n",
    "    _pool2_kernel = [1, 2, 2, 1]\n",
    "    _pool2_strides = [1, 2, 2, 1]\n",
    "    \n",
    "    def __init__(self):\n",
    "        self._global_step = None\n",
    "        # input placeholders\n",
    "        self._images = None\n",
    "        self._labels = None\n",
    "        # transform input\n",
    "        self._images_float = None\n",
    "        self._images_std = None\n",
    "        # layer setup\n",
    "        # Layer 1\n",
    "        self._kernel1 = None\n",
    "        self._conv1 = None\n",
    "        self._bias1 = None\n",
    "        self._biased1 = None\n",
    "        self._conv1r = None\n",
    "        self._pool1 = None\n",
    "        # Layer 2\n",
    "        self._kernel2 = None\n",
    "        self._conv2 = None\n",
    "        self._bias2 = None\n",
    "        self._biased2 = None\n",
    "        self._conv2r = None\n",
    "        self._pool2 = None\n",
    "        # reshape\n",
    "        self._reshape2 = None\n",
    "        # dropout\n",
    "        self._keep_prob = None\n",
    "        self._dropout = None\n",
    "        # Level 3 FC\n",
    "        self._weights3 = None\n",
    "        self._biases3 = None\n",
    "        self._local3 = None\n",
    "        # softmax\n",
    "        self._prediction = None\n",
    "        self._cross_entropy = None\n",
    "        self._loss = None\n",
    "        self._true_class = None\n",
    "        self._predicted_class = None\n",
    "        self._accuracy = None\n",
    "        # savers\n",
    "        self._model_param_file = None\n",
    "        self._saver = None\n",
    "        self._summary_dir = None\n",
    "        self._summaries = None\n",
    "        self._summary_writer = None\n",
    "        # optimizer\n",
    "        self._optimizer = None\n",
    "    \n",
    "    def variable_summaries(self, var):\n",
    "        \"\"\"Attach a lot of summaries to a Tensor (for TensorBoard visualization).\"\"\"\n",
    "        with tf.name_scope('summaries'):\n",
    "            mean = tf.reduce_mean(var)\n",
    "            tf.summary.scalar('mean/'+str(var.name).replace(\":\",\"_\"), mean)\n",
    "            with tf.name_scope('stddev'):\n",
    "                stddev = tf.sqrt(tf.reduce_mean(tf.square(var - mean)))\n",
    "            tf.summary.scalar('stddev/'+str(var.name).replace(\":\",\"_\"), stddev)\n",
    "            tf.summary.scalar('max/'+str(var.name).replace(\":\",\"_\"), tf.reduce_max(var))\n",
    "            tf.summary.scalar('min/'+str(var.name).replace(\":\",\"_\"), tf.reduce_min(var))\n",
    "            tf.summary.histogram('histogram/'+str(var.name).replace(\":\",\"_\"), var)\n",
    "    \n",
    "    def define_model(self, features_shape, labels_shape):\n",
    "        \"\"\"Takes batch of OpenCV images of type uint8. Does normalization internally\"\"\"\n",
    "        self._global_step = tf.Variable(0, dtype=tf.int32, trainable=False, name='global_step')\n",
    "        # placeholders\n",
    "        self._images = tf.placeholder(tf.uint8, shape=features_shape, name='images')\n",
    "        self._labels = tf.placeholder(tf.float32, name='labels')\n",
    "\n",
    "        # convert type and standardise image to [0,1] values\n",
    "        self._images_float = tf.image.convert_image_dtype(self._images, tf.float32)\n",
    "        self._images_std = tf.map_fn(lambda img: tf.image.per_image_standardization(img), self._images_float)\n",
    "        #self._images_std = tf.image.per_image_standardization(self._images_float)\n",
    "                \n",
    "        # layer 1\n",
    "        k1_params = [self._L1_kernel_size, self._L1_kernel_size, features_shape[3], self._L1_out_channels]\n",
    "        self._kernel1 = tf.Variable(tf.truncated_normal(k1_params, stddev=self._trunc_normal_stddev), name='L1_kernel')\n",
    "        self.variable_summaries(self._kernel1)\n",
    "        self._conv1 = tf.nn.conv2d(self._images_std, self._kernel1, strides=self._kernel1_strides, padding='SAME')\n",
    "        tf.summary.histogram('conv1', self._conv1)\n",
    "        self._bias1 = tf.Variable(tf.constant(np.ones(self._L1_out_channels, np.float32)*self._bias_init), name='L1_bias')\n",
    "        self.variable_summaries(self._bias1)\n",
    "        self._biased1 = tf.nn.bias_add(self._conv1, self._bias1)\n",
    "        self._conv1r = tf.nn.relu(self._biased1)\n",
    "        tf.summary.histogram('conv1r', self._conv1r)\n",
    "        self._pool1 = tf.nn.max_pool(self._conv1r, \n",
    "                                       ksize = self._pool1_kernel, \n",
    "                                       strides = self._pool1_strides,\n",
    "                                       padding='SAME')\n",
    "        tf.summary.histogram('pool1', self._pool1)\n",
    "        # layer 2\n",
    "        k2_params = [self._L2_kernel_size, self._L2_kernel_size, self._L1_out_channels, self._L2_out_channels]\n",
    "        self._kernel2 = tf.Variable(tf.truncated_normal(k2_params, stddev=self._trunc_normal_stddev), name='L2_kernel')\n",
    "        self.variable_summaries(self._kernel2)\n",
    "        self._conv2 = tf.nn.conv2d(self._pool1, self._kernel2, strides=self._kernel2_strides, padding='SAME')\n",
    "        tf.summary.histogram('conv2', self._conv2)\n",
    "        self._bias2 = tf.Variable(tf.constant(np.ones(self._L2_out_channels, np.float32)*self._bias_init), name='L2_bias')\n",
    "        self.variable_summaries(self._bias2)\n",
    "        self._biased2 = tf.nn.bias_add(self._conv2, self._bias2)\n",
    "        self._conv2r = tf.nn.relu(self._biased2)\n",
    "        tf.summary.histogram('conv2r', self._conv2r)\n",
    "        self._pool2 = tf.nn.max_pool(self._conv2r, \n",
    "                               ksize = self._pool2_kernel,\n",
    "                               strides = self._pool2_strides, \n",
    "                               padding='SAME')\n",
    "        tf.summary.histogram('pool2', self._pool2)\n",
    "        # reshape\n",
    "        shape = self._pool2.get_shape().as_list()\n",
    "        dim = np.prod(shape[1:])\n",
    "        self._reshape2 = tf.reshape(self._pool2, [-1, dim])\n",
    "        # DROPOUT\n",
    "        self._keep_prob = tf.placeholder(tf.float32, name='dropout_keep_probability')\n",
    "        self._dropout = tf.nn.dropout(self._reshape2, self._keep_prob)\n",
    "        tf.summary.histogram('dropout', self._dropout)\n",
    "        tf.summary.scalar('dropout_keep_probability', self._keep_prob)\n",
    "        # layer 3 fully connected\n",
    "        init_range = math.sqrt(6.0 / (dim + labels_shape[1]))\n",
    "        self._weights3 = tf.Variable(tf.random_uniform([dim, labels_shape[1]], -init_range, init_range), name='FC1_weights')\n",
    "        self.variable_summaries(self._weights3)\n",
    "        self._biases3 = tf.Variable(tf.constant(np.ones(labels_shape[1], np.float32)*self._bias_init), name='FC1_bias')\n",
    "        self.variable_summaries(self._biases3)\n",
    "        self._local3 = tf.matmul(self._dropout, self._weights3) + self._biases3\n",
    "        tf.summary.histogram('local3', self._local3)\n",
    "        # softmax\n",
    "        self._prediction = tf.nn.softmax(self._local3)\n",
    "        tf.summary.histogram('prediction', self._prediction)\n",
    "        # Cross entropy\n",
    "        self._cross_entropy = tf.reduce_mean(-tf.reduce_sum(\n",
    "                                            self._labels * tf.log(tf.clip_by_value(self._prediction,1e-10,1.0)), \n",
    "                                            reduction_indices=[1]))\n",
    "        tf.summary.scalar('xentropy', self._cross_entropy)\n",
    "        # training loss\n",
    "        self._loss = tf.reduce_mean(self._cross_entropy)\n",
    "        tf.summary.scalar('loss', self._loss)\n",
    "        # accuracy\n",
    "        self._true_class      = tf.argmax(self._labels, 1)\n",
    "        self._predicted_class = tf.argmax(self._prediction, 1)\n",
    "        self._accuracy = tf.reduce_mean(tf.cast(tf.equal(self._predicted_class, self._true_class), tf.float32))\n",
    "        tf.summary.histogram('accuracy', self._accuracy)\n",
    "\n",
    "    def set_save_files(self, model_param_file, summary_dir=None):\n",
    "        \"\"\" adds ops to save all variables. and merge_all op for summaries. \"\"\"\n",
    "        self._model_param_file = model_param_file\n",
    "        self._saver = tf.train.Saver()\n",
    "        if summary_dir is not None:\n",
    "            self._summary_dir = summary_dir\n",
    "            self._summaries = tf.summary.merge_all()\n",
    "            \n",
    "    def create_session(self, learning_rate=0.001):\n",
    "        \"\"\" \n",
    "        Prepares session\n",
    "        \n",
    "        Creates TF session, \n",
    "        Creates optimizer op, \n",
    "        Creates init op,\n",
    "        Configures GPU usage\n",
    "        Runs init op\n",
    "        Configures summary writer\n",
    "        \n",
    "        Prev actions:\n",
    "            define_model\n",
    "            set_save_files\n",
    "        Next actions:\n",
    "            restore_variables\n",
    "            train\n",
    "            predict\n",
    "            close_session\n",
    "        \"\"\"\n",
    "        # optimizer needs to be here to initialize its variables\n",
    "        # leaving learning rate\n",
    "        self._optimizer = tf.train.AdamOptimizer(learning_rate).minimize(self._loss, global_step=self._global_step)\n",
    "        \n",
    "        # init\n",
    "        init = tf.global_variables_initializer()\n",
    "        #init = tf.initialize_all_variables()\n",
    "        #GPU config\n",
    "        config = tf.ConfigProto(log_device_placement=True)\n",
    "        config.gpu_options.allow_growth = True\n",
    "        config.gpu_options.per_process_gpu_memory_fraction = 0.9\n",
    "        #session\n",
    "        self._session = tf.Session(config=config)\n",
    "        self._session.run(init)\n",
    "        #summary writer\n",
    "        if self._summary_dir is not None:\n",
    "            self._summary_writer = tf.summary.FileWriter(self._summary_dir, self._session.graph)\n",
    "\n",
    "    def restore_variables(self):\n",
    "        \"\"\"\n",
    "        Restore model variables from file\n",
    "        \"\"\"\n",
    "        if self._session is not None:\n",
    "            self._saver.restore(self._session, self._model_param_file)\n",
    "        \n",
    "    def close_session(self):\n",
    "        if self._session is not None:\n",
    "            self._session.close()\n",
    "            self._session = None\n",
    "            \n",
    "    def train(self, \n",
    "              train_images, \n",
    "              train_labels, \n",
    "              validation_images=None, \n",
    "              validation_labels=None, \n",
    "              learning_rate=0.001, \n",
    "              dropout_keep_probability=0.5,\n",
    "              batch_size=150, \n",
    "              epochs=50, \n",
    "              max_iterations_without_improvement=5):\n",
    "        \n",
    "        # Measurements use for graphing loss and accuracy\n",
    "        best_validation_accuracy = 0.0\n",
    "        last_improvment_epoch = 0\n",
    "        loss_epoch = []\n",
    "        train_acc_epoch = []\n",
    "        valid_acc_epoch = []\n",
    "\n",
    "        st = datetime.now()\n",
    "\n",
    "        a_ = 0\n",
    "\n",
    "        for epoch_i in range(epochs):\n",
    "            # train for one epoch\n",
    "\n",
    "            # random training set permutation for each epoch\n",
    "            perm_index = np.random.permutation(len(train_images))\n",
    "            train_images = train_images[perm_index,:,:,:]\n",
    "            train_labels = train_labels[perm_index]\n",
    "\n",
    "            # running optimization in batches of training set\n",
    "            batch_count = int(math.ceil(len(train_images)/batch_size))\n",
    "            batches_pbar = tqdm(range(batch_count), desc='Train Epoch {:>2}/{}'.format(epoch_i+1, epochs), unit='batches')\n",
    "            for batch_i in batches_pbar:\n",
    "                batch_start = batch_i*batch_size\n",
    "                batch_images = train_images[batch_start:batch_start + batch_size]\n",
    "                batch_labels = train_labels[batch_start:batch_start + batch_size]\n",
    "                # Run optimizer and get loss\n",
    "                _, l, _summ = self._session.run(\n",
    "                    [self._optimizer, self._loss, self._summaries],\n",
    "                    feed_dict={self._images: batch_images, \n",
    "                               self._labels: batch_labels, \n",
    "                               self._keep_prob: dropout_keep_probability})\n",
    "            # write summaries once per epoch\n",
    "            _summ = self._session.run(\n",
    "                [self._summaries],\n",
    "                feed_dict={self._images: batch_images, \n",
    "                           self._labels: batch_labels, \n",
    "                           self._keep_prob: dropout_keep_probability})\n",
    "            self._summary_writer.add_summary(_summ[0], epoch_i)\n",
    "\n",
    "            # Log accuracy every epoch. have to calculate accuracy in batches as cannot \n",
    "            # fit entire test set on GPU\n",
    "            # training accuracy\n",
    "            batch_count = int(math.ceil(len(train_images)/batch_size))\n",
    "            batches_pbar = tqdm(range(batch_count), desc='Train Accuracy Epoch {:>2}/{}'.format(epoch_i+1, epochs), unit='batches')\n",
    "            l = 0.\n",
    "            a = 0.\n",
    "            for batch_i in batches_pbar:\n",
    "                batch_start = batch_i*batch_size\n",
    "                batch_images = train_images[batch_start:batch_start + batch_size]\n",
    "                batch_labels = train_labels[batch_start:batch_start + batch_size]\n",
    "                l_, a_ = self._session.run(\n",
    "                    [self._loss, self._accuracy],\n",
    "                    feed_dict={self._images: batch_images, \n",
    "                               self._labels: batch_labels, \n",
    "                               self._keep_prob: 1.0})\n",
    "                l += l_ * len(batch_images)\n",
    "                a += a_ * len(batch_images)\n",
    "            loss_epoch.append(l / len(train_images))\n",
    "            train_acc_epoch.append(a / len(train_images))\n",
    "            \n",
    "            if validation_images is None:\n",
    "                validation_images = train_images\n",
    "                validation_labels = train_labels\n",
    "            \n",
    "            # validation accuracy\n",
    "            batch_count = int(math.ceil(len(validation_images)/batch_size))\n",
    "            batches_pbar = tqdm(range(batch_count), desc='Val Accuracy Epoch {:>2}/{}'.format(epoch_i+1, epochs), unit='batches')\n",
    "            a = 0.\n",
    "            for batch_i in batches_pbar:\n",
    "                batch_start = batch_i*batch_size\n",
    "                batch_images = validation_images[batch_start:batch_start + batch_size]\n",
    "                batch_labels = validation_labels[batch_start:batch_start + batch_size]\n",
    "                # Run optimizer and get loss\n",
    "                a_ = self._session.run(\n",
    "                    [self._accuracy],\n",
    "                    feed_dict={self._images: batch_images, \n",
    "                               self._labels: batch_labels, \n",
    "                               self._keep_prob: 1.0})\n",
    "                a += a_[0] * len(batch_images)\n",
    "            validation_accuracy = a / len(validation_images)\n",
    "            valid_acc_epoch.append(validation_accuracy)\n",
    "            print('epoch {}, val accuracy: {}'.format(epoch_i, validation_accuracy))\n",
    "            if (validation_accuracy > best_validation_accuracy):\n",
    "                best_validation_accuracy = validation_accuracy\n",
    "                last_improvment_epoch = epoch_i\n",
    "                # save checkpoint every time accuracy improved during the epoch\n",
    "                save_path = self._saver.save(self._session, self._model_param_file, global_step=self._global_step)\n",
    "                print(\"checkpoint saved to {}\".format(save_path))\n",
    "                print('***') # signify accuracy improvement iteration\n",
    "            else:\n",
    "                if (epoch_i - last_improvment_epoch >= max_iterations_without_improvement):\n",
    "                    break # stop learning\n",
    "        print('runtime: {}'.format(datetime.now()-st))\n",
    "        print('best val accuracy: {}'.format(best_validation_accuracy))\n",
    "        print('epochs: {}'.format(epoch_i))\n",
    "        return loss_epoch, train_acc_epoch, valid_acc_epoch, best_validation_accuracy\n",
    "\n",
    "    def predict(self, \n",
    "              images, \n",
    "              true_labels=None, \n",
    "              batch_size=150):\n",
    "\n",
    "        # Measurements use for graphing loss and accuracy\n",
    "        predicted_probabilities = []\n",
    "        predicted_classes = []\n",
    "        accuracy = 0\n",
    "        batch_count = int(math.ceil(len(images)/batch_size))\n",
    "        for batch_i in range(batch_count):\n",
    "            batch_start = batch_i*batch_size\n",
    "            ops = [self._prediction, self._predicted_class]\n",
    "            feed_dict={self._images: images[batch_start:batch_start + batch_size], \n",
    "                       self._keep_prob: 1.0}\n",
    "            if true_labels is not None:\n",
    "                ops.append(self._accuracy)\n",
    "                feed_dict[self._labels] = true_labels[batch_start:batch_start + batch_size]\n",
    "            # Run optimizer and get loss\n",
    "            output = self._session.run(ops, feed_dict=feed_dict)\n",
    "            predicted_probabilities.append(output[0])\n",
    "            predicted_classes.append(output[1])\n",
    "            accuracy += output[2] * len(feed_dict[self._images])\n",
    "        accuracy /= len(images)\n",
    "        return np.vstack(predicted_probabilities), np.hstack(predicted_classes), accuracy\n",
    "        "
   ]
  },
  {
   "cell_type": "markdown",
   "metadata": {},
   "source": [
    "Below is Tensorboard visualisation of the main part of my network (before softmax).\n",
    "\n",
    "Here is the description of it:\n",
    "\n",
    "1. input features. shape: (?, 32, 32, 3)\n",
    "2. convolution. kernel: [5,5] 3 input channels, 64 output channels. strides [1,1,1,1]. SAME padding.\n",
    "3. add bias\n",
    "4. relu\n",
    "5. max pool. strides [1,2,2,1]. kernel [1,2,2,1]. SAME padding\n",
    "6. convolution. kernel: [5,5] 64 input channels, 32 output channels. strides [1,1,1,1]. SAME padding.\n",
    "7. add bias\n",
    "8. relu\n",
    "9. max pool. strides [1,2,2,1]. kernel [1,2,2,1]. SAME padding\n",
    "10. reshape to flatten features. 2048 features\n",
    "11. dropout with keep_probability=0.5\n",
    "12. fully connected W*x+bias. output: number of classes\n",
    "13. softmax to get label probabilities\n",
    "\n",
    "."
   ]
  },
  {
   "cell_type": "code",
   "execution_count": 28,
   "metadata": {},
   "outputs": [
    {
     "data": {
      "image/png": "CNN-graph.png",
      "text/plain": [
       "<IPython.core.display.Image object>"
      ]
     },
     "execution_count": 28,
     "metadata": {},
     "output_type": "execute_result"
    }
   ],
   "source": [
    "from IPython.display import Image\n",
    "Image('CNN-graph.png')"
   ]
  },
  {
   "cell_type": "code",
   "execution_count": null,
   "metadata": {
    "collapsed": true
   },
   "outputs": [],
   "source": []
  },
  {
   "cell_type": "code",
   "execution_count": 29,
   "metadata": {
    "collapsed": true,
    "scrolled": false
   },
   "outputs": [],
   "source": [
    "# define shapes\n",
    "features_shape = ((None,) + train_features.shape[1:])\n",
    "labels_shape = (None,train_labels.shape[1],)\n",
    "\n",
    "# create classifier\n",
    "tsc = TrafficLightsClassifier()\n",
    "\n",
    "# define model\n",
    "tsc.define_model(features_shape=features_shape, labels_shape=labels_shape)"
   ]
  },
  {
   "cell_type": "code",
   "execution_count": 30,
   "metadata": {
    "collapsed": true
   },
   "outputs": [],
   "source": [
    "# where we save trained variables\n",
    "model_param_file = 'ckpt/model.ckpt'\n",
    "\n",
    "# where we save graph and events/summaries for tensorflow\n",
    "summary_dir = 'train_summaries'\n",
    "\n",
    "tsc.set_save_files(model_param_file, summary_dir)"
   ]
  },
  {
   "cell_type": "code",
   "execution_count": 31,
   "metadata": {
    "collapsed": true
   },
   "outputs": [],
   "source": [
    "# learning parameters\n",
    "epochs = 40\n",
    "batch_size = 250\n",
    "learning_rate = 0.001\n",
    "max_iterations_without_improvement = 10\n",
    "dropout_keep_probability=0.7"
   ]
  },
  {
   "cell_type": "code",
   "execution_count": 32,
   "metadata": {
    "collapsed": true
   },
   "outputs": [],
   "source": [
    "# create Tensorflow session\n",
    "tsc.create_session(learning_rate)"
   ]
  },
  {
   "cell_type": "code",
   "execution_count": 33,
   "metadata": {
    "scrolled": false
   },
   "outputs": [
    {
     "name": "stdout",
     "output_type": "stream",
     "text": [
      "INFO:tensorflow:Restoring parameters from ckpt/model.ckpt\n"
     ]
    }
   ],
   "source": [
    "# i have trained model several times, restarting from where I left off, sometimes changing parameters\n",
    "tsc.restore_variables()"
   ]
  },
  {
   "cell_type": "code",
   "execution_count": 37,
   "metadata": {
    "scrolled": false
   },
   "outputs": [
    {
     "name": "stderr",
     "output_type": "stream",
     "text": [
      "Train Epoch  1/40: 100%|██████████| 79/79 [00:49<00:00,  1.73batches/s]\n",
      "Train Accuracy Epoch  1/40: 100%|██████████| 79/79 [00:02<00:00, 38.57batches/s]\n",
      "Val Accuracy Epoch  1/40: 100%|██████████| 14/14 [00:00<00:00, 39.64batches/s]\n",
      "Train Epoch  2/40:   0%|          | 0/79 [00:00<?, ?batches/s]"
     ]
    },
    {
     "name": "stdout",
     "output_type": "stream",
     "text": [
      "epoch 0, val accuracy: 0.9795683999713376\n",
      "checkpoint saved to ckpt/model.ckpt\n",
      "***\n"
     ]
    },
    {
     "name": "stderr",
     "output_type": "stream",
     "text": [
      "Train Epoch  2/40: 100%|██████████| 79/79 [00:49<00:00,  1.73batches/s]\n",
      "Train Accuracy Epoch  2/40: 100%|██████████| 79/79 [00:02<00:00, 39.14batches/s]\n",
      "Val Accuracy Epoch  2/40: 100%|██████████| 14/14 [00:00<00:00, 39.45batches/s]\n",
      "Train Epoch  3/40:   0%|          | 0/79 [00:00<?, ?batches/s]"
     ]
    },
    {
     "name": "stdout",
     "output_type": "stream",
     "text": [
      "epoch 1, val accuracy: 0.9764029383659363\n"
     ]
    },
    {
     "name": "stderr",
     "output_type": "stream",
     "text": [
      "Train Epoch  3/40: 100%|██████████| 79/79 [00:49<00:00,  1.70batches/s]\n",
      "Train Accuracy Epoch  3/40: 100%|██████████| 79/79 [00:02<00:00, 38.61batches/s]\n",
      "Val Accuracy Epoch  3/40: 100%|██████████| 14/14 [00:00<00:00, 39.10batches/s]\n",
      "Train Epoch  4/40:   0%|          | 0/79 [00:00<?, ?batches/s]"
     ]
    },
    {
     "name": "stdout",
     "output_type": "stream",
     "text": [
      "epoch 2, val accuracy: 0.9769784851039914\n"
     ]
    },
    {
     "name": "stderr",
     "output_type": "stream",
     "text": [
      "Train Epoch  4/40: 100%|██████████| 79/79 [00:49<00:00,  1.70batches/s]\n",
      "Train Accuracy Epoch  4/40: 100%|██████████| 79/79 [00:02<00:00, 39.09batches/s]\n",
      "Val Accuracy Epoch  4/40: 100%|██████████| 14/14 [00:00<00:00, 40.29batches/s]\n",
      "Train Epoch  5/40:   0%|          | 0/79 [00:00<?, ?batches/s]"
     ]
    },
    {
     "name": "stdout",
     "output_type": "stream",
     "text": [
      "epoch 3, val accuracy: 0.9749640925325078\n"
     ]
    },
    {
     "name": "stderr",
     "output_type": "stream",
     "text": [
      "Train Epoch  5/40: 100%|██████████| 79/79 [00:49<00:00,  1.71batches/s]\n",
      "Train Accuracy Epoch  5/40: 100%|██████████| 79/79 [00:01<00:00, 40.36batches/s]\n",
      "Val Accuracy Epoch  5/40: 100%|██████████| 14/14 [00:00<00:00, 40.07batches/s]\n",
      "Train Epoch  6/40:   0%|          | 0/79 [00:00<?, ?batches/s]"
     ]
    },
    {
     "name": "stdout",
     "output_type": "stream",
     "text": [
      "epoch 4, val accuracy: 0.9766907121637742\n"
     ]
    },
    {
     "name": "stderr",
     "output_type": "stream",
     "text": [
      "Train Epoch  6/40: 100%|██████████| 79/79 [00:49<00:00,  1.70batches/s]\n",
      "Train Accuracy Epoch  6/40: 100%|██████████| 79/79 [00:02<00:00, 38.87batches/s]\n",
      "Val Accuracy Epoch  6/40: 100%|██████████| 14/14 [00:00<00:00, 40.63batches/s]\n",
      "Train Epoch  7/40:   0%|          | 0/79 [00:00<?, ?batches/s]"
     ]
    },
    {
     "name": "stdout",
     "output_type": "stream",
     "text": [
      "epoch 5, val accuracy: 0.9801439441365304\n",
      "checkpoint saved to ckpt/model.ckpt\n",
      "***\n"
     ]
    },
    {
     "name": "stderr",
     "output_type": "stream",
     "text": [
      "Train Epoch  7/40: 100%|██████████| 79/79 [00:49<00:00,  1.70batches/s]\n",
      "Train Accuracy Epoch  7/40: 100%|██████████| 79/79 [00:02<00:00, 39.50batches/s]\n",
      "Val Accuracy Epoch  7/40: 100%|██████████| 14/14 [00:00<00:00, 40.15batches/s]\n",
      "Train Epoch  8/40:   0%|          | 0/79 [00:00<?, ?batches/s]"
     ]
    },
    {
     "name": "stdout",
     "output_type": "stream",
     "text": [
      "epoch 6, val accuracy: 0.976690710877343\n"
     ]
    },
    {
     "name": "stderr",
     "output_type": "stream",
     "text": [
      "Train Epoch  8/40: 100%|██████████| 79/79 [00:49<00:00,  1.69batches/s]\n",
      "Train Accuracy Epoch  8/40: 100%|██████████| 79/79 [00:02<00:00, 38.06batches/s]\n",
      "Val Accuracy Epoch  8/40: 100%|██████████| 14/14 [00:00<00:00, 40.12batches/s]\n",
      "Train Epoch  9/40:   0%|          | 0/79 [00:00<?, ?batches/s]"
     ]
    },
    {
     "name": "stdout",
     "output_type": "stream",
     "text": [
      "epoch 7, val accuracy: 0.9795684081187351\n"
     ]
    },
    {
     "name": "stderr",
     "output_type": "stream",
     "text": [
      "Train Epoch  9/40: 100%|██████████| 79/79 [00:49<00:00,  1.70batches/s]\n",
      "Train Accuracy Epoch  9/40: 100%|██████████| 79/79 [00:02<00:00, 39.39batches/s]\n",
      "Val Accuracy Epoch  9/40: 100%|██████████| 14/14 [00:00<00:00, 40.70batches/s]\n",
      "Train Epoch 10/40:   0%|          | 0/79 [00:00<?, ?batches/s]"
     ]
    },
    {
     "name": "stdout",
     "output_type": "stream",
     "text": [
      "epoch 8, val accuracy: 0.9766907104485326\n"
     ]
    },
    {
     "name": "stderr",
     "output_type": "stream",
     "text": [
      "Train Epoch 10/40: 100%|██████████| 79/79 [00:49<00:00,  1.69batches/s]\n",
      "Train Accuracy Epoch 10/40: 100%|██████████| 79/79 [00:02<00:00, 38.97batches/s]\n",
      "Val Accuracy Epoch 10/40: 100%|██████████| 14/14 [00:00<00:00, 37.70batches/s]\n",
      "Train Epoch 11/40:   0%|          | 0/79 [00:00<?, ?batches/s]"
     ]
    },
    {
     "name": "stdout",
     "output_type": "stream",
     "text": [
      "epoch 9, val accuracy: 0.9789928841076309\n"
     ]
    },
    {
     "name": "stderr",
     "output_type": "stream",
     "text": [
      "Train Epoch 11/40: 100%|██████████| 79/79 [00:49<00:00,  1.70batches/s]\n",
      "Train Accuracy Epoch 11/40: 100%|██████████| 79/79 [00:02<00:00, 38.38batches/s]\n",
      "Val Accuracy Epoch 11/40: 100%|██████████| 14/14 [00:00<00:00, 38.79batches/s]\n",
      "Train Epoch 12/40:   0%|          | 0/79 [00:00<?, ?batches/s]"
     ]
    },
    {
     "name": "stdout",
     "output_type": "stream",
     "text": [
      "epoch 10, val accuracy: 0.9807194831559984\n",
      "checkpoint saved to ckpt/model.ckpt\n",
      "***\n"
     ]
    },
    {
     "name": "stderr",
     "output_type": "stream",
     "text": [
      "Train Epoch 12/40: 100%|██████████| 79/79 [00:49<00:00,  1.72batches/s]\n",
      "Train Accuracy Epoch 12/40: 100%|██████████| 79/79 [00:02<00:00, 38.92batches/s]\n",
      "Val Accuracy Epoch 12/40: 100%|██████████| 14/14 [00:00<00:00, 40.12batches/s]\n",
      "Train Epoch 13/40:   0%|          | 0/79 [00:00<?, ?batches/s]"
     ]
    },
    {
     "name": "stdout",
     "output_type": "stream",
     "text": [
      "epoch 11, val accuracy: 0.9795684184101846\n"
     ]
    },
    {
     "name": "stderr",
     "output_type": "stream",
     "text": [
      "Train Epoch 13/40: 100%|██████████| 79/79 [00:49<00:00,  1.72batches/s]\n",
      "Train Accuracy Epoch 13/40: 100%|██████████| 79/79 [00:02<00:00, 39.00batches/s]\n",
      "Val Accuracy Epoch 13/40: 100%|██████████| 14/14 [00:00<00:00, 40.77batches/s]\n",
      "Train Epoch 14/40:   0%|          | 0/79 [00:00<?, ?batches/s]"
     ]
    },
    {
     "name": "stdout",
     "output_type": "stream",
     "text": [
      "epoch 12, val accuracy: 0.978705091870946\n"
     ]
    },
    {
     "name": "stderr",
     "output_type": "stream",
     "text": [
      "Train Epoch 14/40: 100%|██████████| 79/79 [00:49<00:00,  1.73batches/s]\n",
      "Train Accuracy Epoch 14/40: 100%|██████████| 79/79 [00:02<00:00, 39.47batches/s]\n",
      "Val Accuracy Epoch 14/40: 100%|██████████| 14/14 [00:00<00:00, 37.80batches/s]\n",
      "Train Epoch 15/40:   0%|          | 0/79 [00:00<?, ?batches/s]"
     ]
    },
    {
     "name": "stdout",
     "output_type": "stream",
     "text": [
      "epoch 13, val accuracy: 0.9749640925325078\n"
     ]
    },
    {
     "name": "stderr",
     "output_type": "stream",
     "text": [
      "Train Epoch 15/40: 100%|██████████| 79/79 [00:49<00:00,  1.73batches/s]\n",
      "Train Accuracy Epoch 15/40: 100%|██████████| 79/79 [00:02<00:00, 40.22batches/s]\n",
      "Val Accuracy Epoch 15/40: 100%|██████████| 14/14 [00:00<00:00, 38.59batches/s]\n",
      "Train Epoch 16/40:   0%|          | 0/79 [00:00<?, ?batches/s]"
     ]
    },
    {
     "name": "stdout",
     "output_type": "stream",
     "text": [
      "epoch 14, val accuracy: 0.9807194908745855\n",
      "checkpoint saved to ckpt/model.ckpt\n",
      "***\n"
     ]
    },
    {
     "name": "stderr",
     "output_type": "stream",
     "text": [
      "Train Epoch 16/40: 100%|██████████| 79/79 [00:49<00:00,  1.73batches/s]\n",
      "Train Accuracy Epoch 16/40: 100%|██████████| 79/79 [00:02<00:00, 38.33batches/s]\n",
      "Val Accuracy Epoch 16/40: 100%|██████████| 14/14 [00:00<00:00, 38.21batches/s]\n",
      "Train Epoch 17/40:   0%|          | 0/79 [00:00<?, ?batches/s]"
     ]
    },
    {
     "name": "stdout",
     "output_type": "stream",
     "text": [
      "epoch 15, val accuracy: 0.9764029473709546\n"
     ]
    },
    {
     "name": "stderr",
     "output_type": "stream",
     "text": [
      "Train Epoch 17/40: 100%|██████████| 79/79 [00:49<00:00,  1.73batches/s]\n",
      "Train Accuracy Epoch 17/40: 100%|██████████| 79/79 [00:02<00:00, 39.27batches/s]\n",
      "Val Accuracy Epoch 17/40: 100%|██████████| 14/14 [00:00<00:00, 39.60batches/s]\n",
      "Train Epoch 18/40:   0%|          | 0/79 [00:00<?, ?batches/s]"
     ]
    },
    {
     "name": "stdout",
     "output_type": "stream",
     "text": [
      "epoch 16, val accuracy: 0.9775540181201139\n"
     ]
    },
    {
     "name": "stderr",
     "output_type": "stream",
     "text": [
      "Train Epoch 18/40: 100%|██████████| 79/79 [00:49<00:00,  1.73batches/s]\n",
      "Train Accuracy Epoch 18/40: 100%|██████████| 79/79 [00:02<00:00, 38.95batches/s]\n",
      "Val Accuracy Epoch 18/40: 100%|██████████| 14/14 [00:00<00:00, 38.81batches/s]\n",
      "Train Epoch 19/40:   0%|          | 0/79 [00:00<?, ?batches/s]"
     ]
    },
    {
     "name": "stdout",
     "output_type": "stream",
     "text": [
      "epoch 17, val accuracy: 0.9789928751026126\n"
     ]
    },
    {
     "name": "stderr",
     "output_type": "stream",
     "text": [
      "Train Epoch 19/40: 100%|██████████| 79/79 [00:49<00:00,  1.72batches/s]\n",
      "Train Accuracy Epoch 19/40: 100%|██████████| 79/79 [00:02<00:00, 39.25batches/s]\n",
      "Val Accuracy Epoch 19/40: 100%|██████████| 14/14 [00:00<00:00, 40.78batches/s]\n",
      "Train Epoch 20/40:   0%|          | 0/79 [00:00<?, ?batches/s]"
     ]
    },
    {
     "name": "stdout",
     "output_type": "stream",
     "text": [
      "epoch 18, val accuracy: 0.9758274057786241\n"
     ]
    },
    {
     "name": "stderr",
     "output_type": "stream",
     "text": [
      "Train Epoch 20/40: 100%|██████████| 79/79 [00:49<00:00,  1.73batches/s]\n",
      "Train Accuracy Epoch 20/40: 100%|██████████| 79/79 [00:02<00:00, 39.06batches/s]\n",
      "Val Accuracy Epoch 20/40: 100%|██████████| 14/14 [00:00<00:00, 38.51batches/s]\n",
      "Train Epoch 21/40:   0%|          | 0/79 [00:00<?, ?batches/s]"
     ]
    },
    {
     "name": "stdout",
     "output_type": "stream",
     "text": [
      "epoch 19, val accuracy: 0.9775540318420465\n"
     ]
    },
    {
     "name": "stderr",
     "output_type": "stream",
     "text": [
      "Train Epoch 21/40: 100%|██████████| 79/79 [00:49<00:00,  1.72batches/s]\n",
      "Train Accuracy Epoch 21/40: 100%|██████████| 79/79 [00:02<00:00, 38.30batches/s]\n",
      "Val Accuracy Epoch 21/40: 100%|██████████| 14/14 [00:00<00:00, 38.70batches/s]\n",
      "Train Epoch 22/40:   0%|          | 0/79 [00:00<?, ?batches/s]"
     ]
    },
    {
     "name": "stdout",
     "output_type": "stream",
     "text": [
      "epoch 20, val accuracy: 0.9761151637104776\n"
     ]
    },
    {
     "name": "stderr",
     "output_type": "stream",
     "text": [
      "Train Epoch 22/40: 100%|██████████| 79/79 [00:49<00:00,  1.71batches/s]\n",
      "Train Accuracy Epoch 22/40: 100%|██████████| 79/79 [00:02<00:00, 39.37batches/s]\n",
      "Val Accuracy Epoch 22/40: 100%|██████████| 14/14 [00:00<00:00, 39.55batches/s]\n",
      "Train Epoch 23/40:   0%|          | 0/79 [00:00<?, ?batches/s]"
     ]
    },
    {
     "name": "stdout",
     "output_type": "stream",
     "text": [
      "epoch 21, val accuracy: 0.9758273997752787\n"
     ]
    },
    {
     "name": "stderr",
     "output_type": "stream",
     "text": [
      "Train Epoch 23/40: 100%|██████████| 79/79 [00:49<00:00,  1.74batches/s]\n",
      "Train Accuracy Epoch 23/40: 100%|██████████| 79/79 [00:02<00:00, 39.14batches/s]\n",
      "Val Accuracy Epoch 23/40: 100%|██████████| 14/14 [00:00<00:00, 41.66batches/s]\n",
      "Train Epoch 24/40:   0%|          | 0/79 [00:00<?, ?batches/s]"
     ]
    },
    {
     "name": "stdout",
     "output_type": "stream",
     "text": [
      "epoch 22, val accuracy: 0.9772662537561047\n"
     ]
    },
    {
     "name": "stderr",
     "output_type": "stream",
     "text": [
      "Train Epoch 24/40: 100%|██████████| 79/79 [00:49<00:00,  1.69batches/s]\n",
      "Train Accuracy Epoch 24/40: 100%|██████████| 79/79 [00:02<00:00, 40.08batches/s]\n",
      "Val Accuracy Epoch 24/40: 100%|██████████| 14/14 [00:00<00:00, 40.19batches/s]\n",
      "Train Epoch 25/40:   0%|          | 0/79 [00:00<?, ?batches/s]"
     ]
    },
    {
     "name": "stdout",
     "output_type": "stream",
     "text": [
      "epoch 23, val accuracy: 0.9781295661446002\n"
     ]
    },
    {
     "name": "stderr",
     "output_type": "stream",
     "text": [
      "Train Epoch 25/40: 100%|██████████| 79/79 [00:49<00:00,  1.73batches/s]\n",
      "Train Accuracy Epoch 25/40: 100%|██████████| 79/79 [00:02<00:00, 39.21batches/s]\n",
      "Val Accuracy Epoch 25/40: 100%|██████████| 14/14 [00:00<00:00, 39.31batches/s]"
     ]
    },
    {
     "name": "stdout",
     "output_type": "stream",
     "text": [
      "epoch 24, val accuracy: 0.9752518637574834\n",
      "runtime: 0:21:52.196868\n",
      "best val accuracy: 0.9807194908745855\n",
      "epochs: 24\n"
     ]
    },
    {
     "name": "stderr",
     "output_type": "stream",
     "text": [
      "\n"
     ]
    }
   ],
   "source": [
    "# main training\n",
    "loss_epoch, train_acc_epoch, valid_acc_epoch, best_validation_accuracy = \\\n",
    "    tsc.train(train_images      = train_features, \n",
    "              train_labels      = train_labels, \n",
    "              validation_images = val_features, \n",
    "              validation_labels = val_labels, \n",
    "              learning_rate     = learning_rate, \n",
    "              dropout_keep_probability = dropout_keep_probability,\n",
    "              batch_size        = batch_size, \n",
    "              epochs            = epochs, \n",
    "              max_iterations_without_improvement = max_iterations_without_improvement)"
   ]
  },
  {
   "cell_type": "code",
   "execution_count": null,
   "metadata": {
    "collapsed": true
   },
   "outputs": [],
   "source": [
    "STOP"
   ]
  },
  {
   "cell_type": "code",
   "execution_count": 38,
   "metadata": {},
   "outputs": [
    {
     "data": {
      "text/plain": [
       "(0.99893351839122613, 0.98071949087458554)"
      ]
     },
     "execution_count": 38,
     "metadata": {},
     "output_type": "execute_result"
    }
   ],
   "source": [
    "# accuracy statistics for last epoch (train set and validation set). and also best seen validation set accuracy \n",
    "train_acc_epoch[-1], best_validation_accuracy"
   ]
  },
  {
   "cell_type": "code",
   "execution_count": 39,
   "metadata": {},
   "outputs": [
    {
     "data": {
      "image/png": "[encoded data removed]",
      "text/plain": [
       "<matplotlib.figure.Figure at 0x7f1d982a8240>"
      ]
     },
     "metadata": {},
     "output_type": "display_data"
    }
   ],
   "source": [
    "loss_plot = plt.subplot(211)\n",
    "loss_plot.set_title('Loss')\n",
    "loss_plot.plot(loss_epoch, 'g')\n",
    "acc_plot = plt.subplot(212)\n",
    "acc_plot.set_title('Accuracy')\n",
    "acc_plot.plot(train_acc_epoch, 'r', label='Training Accuracy')\n",
    "acc_plot.plot(valid_acc_epoch, 'b', label='Validation Accuracy')\n",
    "acc_plot.set_ylim([0, 1.0])\n",
    "acc_plot.legend(loc=2)\n",
    "plt.tight_layout()\n",
    "plt.show()"
   ]
  },
  {
   "cell_type": "code",
   "execution_count": null,
   "metadata": {
    "collapsed": true
   },
   "outputs": [],
   "source": []
  },
  {
   "cell_type": "markdown",
   "metadata": {},
   "source": [
    "## investigating accuracy on out of sample data"
   ]
  },
  {
   "cell_type": "code",
   "execution_count": null,
   "metadata": {
    "collapsed": true
   },
   "outputs": [],
   "source": [
    "predicted_probabilities, predicted_classes, accuracy = \\\n",
    "  tsc.predict(images=val_features, \n",
    "              true_labels=val_labels, \n",
    "              batch_size=150)\n"
   ]
  },
  {
   "cell_type": "code",
   "execution_count": null,
   "metadata": {
    "collapsed": true
   },
   "outputs": [],
   "source": [
    "accuracy"
   ]
  },
  {
   "cell_type": "code",
   "execution_count": null,
   "metadata": {
    "collapsed": true
   },
   "outputs": [],
   "source": [
    "# great, accuracy 99.74% on validation set."
   ]
  },
  {
   "cell_type": "code",
   "execution_count": null,
   "metadata": {
    "collapsed": true
   },
   "outputs": [],
   "source": [
    "predicted_probabilities.shape"
   ]
  },
  {
   "cell_type": "code",
   "execution_count": null,
   "metadata": {
    "collapsed": true
   },
   "outputs": [],
   "source": [
    "predicted_probabilities[0]"
   ]
  },
  {
   "cell_type": "code",
   "execution_count": null,
   "metadata": {
    "collapsed": true
   },
   "outputs": [],
   "source": [
    "predicted_classes[0]"
   ]
  },
  {
   "cell_type": "code",
   "execution_count": null,
   "metadata": {
    "collapsed": true
   },
   "outputs": [],
   "source": [
    "certainty = predicted_probabilities.max(axis=1)"
   ]
  },
  {
   "cell_type": "code",
   "execution_count": null,
   "metadata": {
    "collapsed": true
   },
   "outputs": [],
   "source": [
    "plt.hist(certainty, bins=100);"
   ]
  },
  {
   "cell_type": "code",
   "execution_count": null,
   "metadata": {
    "collapsed": true
   },
   "outputs": [],
   "source": [
    "len(certainty[certainty<.98])"
   ]
  },
  {
   "cell_type": "code",
   "execution_count": null,
   "metadata": {
    "collapsed": true
   },
   "outputs": [],
   "source": [
    "plt.plot(certainty[certainty<.98]);"
   ]
  },
  {
   "cell_type": "code",
   "execution_count": null,
   "metadata": {
    "collapsed": true
   },
   "outputs": [],
   "source": []
  },
  {
   "cell_type": "code",
   "execution_count": null,
   "metadata": {
    "collapsed": true
   },
   "outputs": [],
   "source": [
    "# NOW test model predictions on test.p data which was not used in training or cross-validation"
   ]
  },
  {
   "cell_type": "code",
   "execution_count": null,
   "metadata": {
    "collapsed": true
   },
   "outputs": [],
   "source": [
    "predicted_probabilities, predicted_classes, accuracy = \\\n",
    "  tsc.predict(images = x_test_norm, \n",
    "              true_labels = y_test_norm, \n",
    "              batch_size = 150)\n"
   ]
  },
  {
   "cell_type": "code",
   "execution_count": null,
   "metadata": {
    "collapsed": true
   },
   "outputs": [],
   "source": [
    "accuracy"
   ]
  },
  {
   "cell_type": "code",
   "execution_count": null,
   "metadata": {
    "collapsed": true
   },
   "outputs": [],
   "source": [
    "# 95.64% accuracy. great! model generalises very well! lets analyse what is working and what is not."
   ]
  },
  {
   "cell_type": "code",
   "execution_count": null,
   "metadata": {
    "collapsed": true
   },
   "outputs": [],
   "source": []
  },
  {
   "cell_type": "code",
   "execution_count": null,
   "metadata": {
    "collapsed": true
   },
   "outputs": [],
   "source": []
  },
  {
   "cell_type": "code",
   "execution_count": null,
   "metadata": {
    "collapsed": true
   },
   "outputs": [],
   "source": []
  },
  {
   "cell_type": "code",
   "execution_count": null,
   "metadata": {
    "collapsed": true
   },
   "outputs": [],
   "source": [
    "from sklearn.metrics import confusion_matrix"
   ]
  },
  {
   "cell_type": "code",
   "execution_count": null,
   "metadata": {
    "collapsed": true
   },
   "outputs": [],
   "source": [
    "def print_test_accuracy(images, cls_pred, cls_true, \n",
    "                        show_example_errors=False,\n",
    "                        show_confusion_matrix=False):\n",
    "    num_test = len(images)\n",
    "    num_classes = len(set(cls_true))\n",
    "\n",
    "    correct = (cls_true == cls_pred)\n",
    "    correct_sum = correct.sum()\n",
    "    acc = float(correct_sum) / num_test\n",
    "\n",
    "    msg = \"Accuracy: {0:.1%} ({1} / {2})\"\n",
    "    print(msg.format(acc, correct_sum, num_test))\n",
    "\n",
    "    if show_example_errors:\n",
    "        print(\"Example errors:\")\n",
    "        incorrect = (correct == False)\n",
    "        im = images[incorrect]\n",
    "        cp = cls_pred[incorrect]\n",
    "        ct = cls_true[incorrect]\n",
    "        show_images(im, ct, 3, 4, labels_predicted=cp, random=False)\n",
    "                \n",
    "    if show_confusion_matrix:\n",
    "        print(\"Confusion Matrix (log):\")\n",
    "        # Get the confusion matrix using sklearn.\n",
    "        cm = confusion_matrix(y_true=cls_true,\n",
    "                              y_pred=cls_pred)\n",
    "        #print(cm)\n",
    "        plt.matshow(np.log(cm))\n",
    "        plt.colorbar()\n",
    "        tick_marks = np.arange(num_classes)\n",
    "        plt.xticks(tick_marks, range(num_classes))\n",
    "        plt.yticks(tick_marks, range(num_classes))\n",
    "        plt.xlabel('Predicted')\n",
    "        plt.ylabel('True')\n",
    "        plt.show()        "
   ]
  },
  {
   "cell_type": "code",
   "execution_count": null,
   "metadata": {
    "collapsed": true
   },
   "outputs": [],
   "source": [
    "# lets look at first 26x26 cells of confusion matrix\n",
    "cm = confusion_matrix(y_true=y_test,\n",
    "                      y_pred=predicted_classes)\n",
    "np.set_printoptions(threshold=np.nan, linewidth=200)\n",
    "print(cm[:25,:25])\n",
    "np.set_printoptions(threshold=30, linewidth=75)"
   ]
  },
  {
   "cell_type": "code",
   "execution_count": null,
   "metadata": {
    "collapsed": true
   },
   "outputs": [],
   "source": [
    "# visualize example error images and confusion matrix\n",
    "print_test_accuracy(images=X_test, \n",
    "                    cls_pred=predicted_classes, \n",
    "                    cls_true=y_test, \n",
    "                    show_example_errors=True, \n",
    "                    show_confusion_matrix=True)"
   ]
  },
  {
   "cell_type": "code",
   "execution_count": null,
   "metadata": {
    "collapsed": true
   },
   "outputs": [],
   "source": []
  },
  {
   "cell_type": "code",
   "execution_count": null,
   "metadata": {
    "collapsed": true
   },
   "outputs": [],
   "source": [
    "# read the sign names into a dict\n",
    "import csv\n",
    "reader = csv.DictReader(open('signnames.csv'))\n",
    "signnames = {}\n",
    "for row in reader:\n",
    "    signnames[int(row['ClassId'])] = row['SignName']    "
   ]
  },
  {
   "cell_type": "code",
   "execution_count": null,
   "metadata": {
    "collapsed": true
   },
   "outputs": [],
   "source": []
  },
  {
   "cell_type": "code",
   "execution_count": null,
   "metadata": {
    "collapsed": true
   },
   "outputs": [],
   "source": [
    "# visualize instances where model is misclassifying big number of images"
   ]
  },
  {
   "cell_type": "code",
   "execution_count": null,
   "metadata": {
    "collapsed": true
   },
   "outputs": [],
   "source": [
    "def print_one_confusion(images, true_labels, predicted_labels, show_true_class, show_false_class):\n",
    "    idx = np.logical_and(true_labels==show_true_class, predicted_labels==show_false_class)\n",
    "    cnt = sum(idx)\n",
    "    print('true class \"{}\", predicted class \"{}\". found: {}'.format(signnames[show_true_class], signnames[show_false_class], cnt))\n",
    "    cols = int(np.ceil(cnt/10))\n",
    "    show_images(images[idx], true_labels[idx], cols, 10, random=False, labels_predicted=predicted_labels[idx])"
   ]
  },
  {
   "cell_type": "code",
   "execution_count": null,
   "metadata": {
    "collapsed": true
   },
   "outputs": [],
   "source": [
    "print_one_confusion(images=X_test, true_labels=y_test, predicted_labels=predicted_classes, \n",
    "                    show_true_class=21, show_false_class=12)\n",
    "# what we see here is the same test set image (may be with small transformations) that was misclassified.\n",
    "# this seems like a genuine defficiency of the model -- the predicted sign is very different visually than the image"
   ]
  },
  {
   "cell_type": "code",
   "execution_count": null,
   "metadata": {
    "collapsed": true
   },
   "outputs": [],
   "source": []
  },
  {
   "cell_type": "code",
   "execution_count": null,
   "metadata": {
    "collapsed": true
   },
   "outputs": [],
   "source": [
    "print_one_confusion(images=X_test, true_labels=y_test, predicted_labels=predicted_classes, \n",
    "                    show_true_class=30, show_false_class=23)\n",
    "# with this one it looks like the same image, with slight transformations. the quality is quite poor, so its \n",
    "# understandable that model had hard time predicting it. the shape of the sign is actually right. and the picture\n",
    "# inside triangle is not very legible even for a human, so this is probably ok"
   ]
  },
  {
   "cell_type": "code",
   "execution_count": null,
   "metadata": {
    "collapsed": true
   },
   "outputs": [],
   "source": []
  },
  {
   "cell_type": "code",
   "execution_count": null,
   "metadata": {
    "collapsed": true
   },
   "outputs": [],
   "source": []
  },
  {
   "cell_type": "code",
   "execution_count": null,
   "metadata": {
    "collapsed": true
   },
   "outputs": [],
   "source": [
    "print_one_confusion(images=X_test, true_labels=y_test, predicted_labels=predicted_classes, \n",
    "                    show_true_class=7, show_false_class=5)\n",
    "# we see in confusion matrix that all the speed limit signs have high misclassification errors between them.\n",
    "# looks like the quality of the picture need to increase (better resolution is required)\n",
    "# for model to be more discerning between different speed limits."
   ]
  },
  {
   "cell_type": "code",
   "execution_count": null,
   "metadata": {
    "collapsed": true
   },
   "outputs": [],
   "source": []
  },
  {
   "cell_type": "code",
   "execution_count": null,
   "metadata": {
    "collapsed": true
   },
   "outputs": [],
   "source": []
  },
  {
   "cell_type": "code",
   "execution_count": null,
   "metadata": {
    "collapsed": true
   },
   "outputs": [],
   "source": [
    "print_one_confusion(images=X_test, true_labels=y_test, predicted_labels=predicted_classes, \n",
    "                    show_true_class=6, show_false_class=42)\n",
    "# looks like in this case the model is confused by the 'end' part -- the line across the sign. so it used the shape\n",
    "# and the cross line as main features. it also interpreted 80 as two vehicles passing each other (see below for\n",
    "# images of the 'end of passing' sign examples)"
   ]
  },
  {
   "cell_type": "code",
   "execution_count": null,
   "metadata": {
    "collapsed": true
   },
   "outputs": [],
   "source": [
    "rows = 3\n",
    "cols = 10\n",
    "cls = 42\n",
    "show_images(X_test, y_test, rows, cols, cls)"
   ]
  },
  {
   "cell_type": "code",
   "execution_count": null,
   "metadata": {
    "collapsed": true
   },
   "outputs": [],
   "source": []
  },
  {
   "cell_type": "code",
   "execution_count": null,
   "metadata": {
    "collapsed": true
   },
   "outputs": [],
   "source": []
  },
  {
   "cell_type": "code",
   "execution_count": null,
   "metadata": {
    "collapsed": true
   },
   "outputs": [],
   "source": []
  },
  {
   "cell_type": "code",
   "execution_count": null,
   "metadata": {
    "collapsed": true
   },
   "outputs": [],
   "source": []
  },
  {
   "cell_type": "code",
   "execution_count": null,
   "metadata": {
    "collapsed": true
   },
   "outputs": [],
   "source": []
  },
  {
   "cell_type": "code",
   "execution_count": null,
   "metadata": {
    "collapsed": true
   },
   "outputs": [],
   "source": [
    "x = normalize_data(im_array)\n",
    "y = encoder.transform(im_true_label)"
   ]
  },
  {
   "cell_type": "code",
   "execution_count": null,
   "metadata": {
    "collapsed": true
   },
   "outputs": [],
   "source": [
    "x.shape"
   ]
  },
  {
   "cell_type": "code",
   "execution_count": null,
   "metadata": {
    "collapsed": true
   },
   "outputs": [],
   "source": [
    "y.shape"
   ]
  },
  {
   "cell_type": "code",
   "execution_count": null,
   "metadata": {
    "collapsed": true
   },
   "outputs": [],
   "source": [
    "predicted_probabilities, predicted_classes, accuracy = \\\n",
    "  tsc.predict(images = x, \n",
    "              true_labels = y, \n",
    "              batch_size = 150)\n"
   ]
  },
  {
   "cell_type": "code",
   "execution_count": null,
   "metadata": {
    "collapsed": true
   },
   "outputs": [],
   "source": [
    "accuracy"
   ]
  },
  {
   "cell_type": "code",
   "execution_count": null,
   "metadata": {
    "collapsed": true
   },
   "outputs": [],
   "source": [
    "predicted_classes"
   ]
  },
  {
   "cell_type": "code",
   "execution_count": null,
   "metadata": {
    "collapsed": true
   },
   "outputs": [],
   "source": [
    "im_true_label"
   ]
  },
  {
   "cell_type": "code",
   "execution_count": null,
   "metadata": {
    "collapsed": true
   },
   "outputs": [],
   "source": [
    "rows = 3\n",
    "cols = 10\n",
    "cls = 11\n",
    "show_images(X_test, y_test, rows, cols, cls)"
   ]
  },
  {
   "cell_type": "code",
   "execution_count": null,
   "metadata": {
    "collapsed": true
   },
   "outputs": [],
   "source": []
  },
  {
   "cell_type": "code",
   "execution_count": null,
   "metadata": {
    "collapsed": true
   },
   "outputs": [],
   "source": []
  },
  {
   "cell_type": "code",
   "execution_count": null,
   "metadata": {
    "collapsed": true
   },
   "outputs": [],
   "source": []
  },
  {
   "cell_type": "code",
   "execution_count": null,
   "metadata": {
    "collapsed": true
   },
   "outputs": [],
   "source": []
  },
  {
   "cell_type": "code",
   "execution_count": null,
   "metadata": {
    "collapsed": true
   },
   "outputs": [],
   "source": [
    "tsc.close_session()"
   ]
  },
  {
   "cell_type": "code",
   "execution_count": null,
   "metadata": {
    "collapsed": true
   },
   "outputs": [],
   "source": []
  }
 ],
 "metadata": {
  "anaconda-cloud": {},
  "kernelspec": {
   "display_name": "Python 3",
   "language": "python",
   "name": "python3"
  },
  "language_info": {
   "codemirror_mode": {
    "name": "ipython",
    "version": 3
   },
   "file_extension": ".py",
   "mimetype": "text/x-python",
   "name": "python",
   "nbconvert_exporter": "python",
   "pygments_lexer": "ipython3",
   "version": "3.5.3"
  }
 },
 "nbformat": 4,
 "nbformat_minor": 1
}
